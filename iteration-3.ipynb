{
 "cells": [
  {
   "cell_type": "code",
   "execution_count": 23,
   "metadata": {
    "collapsed": false
   },
   "outputs": [
    {
     "data": {
      "text/html": [
       "<div>\n",
       "<table border=\"1\" class=\"dataframe\">\n",
       "  <thead>\n",
       "    <tr style=\"text-align: right;\">\n",
       "      <th></th>\n",
       "      <th>Id</th>\n",
       "      <th>Dates</th>\n",
       "      <th>DayOfWeek</th>\n",
       "      <th>PdDistrict</th>\n",
       "      <th>Address</th>\n",
       "      <th>X</th>\n",
       "      <th>Y</th>\n",
       "    </tr>\n",
       "  </thead>\n",
       "  <tbody>\n",
       "    <tr>\n",
       "      <th>0</th>\n",
       "      <td>0</td>\n",
       "      <td>2015-05-10 23:59:00</td>\n",
       "      <td>Sunday</td>\n",
       "      <td>BAYVIEW</td>\n",
       "      <td>2000 Block of THOMAS AV</td>\n",
       "      <td>-122.399588</td>\n",
       "      <td>37.735051</td>\n",
       "    </tr>\n",
       "    <tr>\n",
       "      <th>1</th>\n",
       "      <td>1</td>\n",
       "      <td>2015-05-10 23:51:00</td>\n",
       "      <td>Sunday</td>\n",
       "      <td>BAYVIEW</td>\n",
       "      <td>3RD ST / REVERE AV</td>\n",
       "      <td>-122.391523</td>\n",
       "      <td>37.732432</td>\n",
       "    </tr>\n",
       "    <tr>\n",
       "      <th>2</th>\n",
       "      <td>2</td>\n",
       "      <td>2015-05-10 23:50:00</td>\n",
       "      <td>Sunday</td>\n",
       "      <td>NORTHERN</td>\n",
       "      <td>2000 Block of GOUGH ST</td>\n",
       "      <td>-122.426002</td>\n",
       "      <td>37.792212</td>\n",
       "    </tr>\n",
       "    <tr>\n",
       "      <th>3</th>\n",
       "      <td>3</td>\n",
       "      <td>2015-05-10 23:45:00</td>\n",
       "      <td>Sunday</td>\n",
       "      <td>INGLESIDE</td>\n",
       "      <td>4700 Block of MISSION ST</td>\n",
       "      <td>-122.437394</td>\n",
       "      <td>37.721412</td>\n",
       "    </tr>\n",
       "    <tr>\n",
       "      <th>4</th>\n",
       "      <td>4</td>\n",
       "      <td>2015-05-10 23:45:00</td>\n",
       "      <td>Sunday</td>\n",
       "      <td>INGLESIDE</td>\n",
       "      <td>4700 Block of MISSION ST</td>\n",
       "      <td>-122.437394</td>\n",
       "      <td>37.721412</td>\n",
       "    </tr>\n",
       "  </tbody>\n",
       "</table>\n",
       "</div>"
      ],
      "text/plain": [
       "   Id                Dates DayOfWeek PdDistrict                   Address  \\\n",
       "0   0  2015-05-10 23:59:00    Sunday    BAYVIEW   2000 Block of THOMAS AV   \n",
       "1   1  2015-05-10 23:51:00    Sunday    BAYVIEW        3RD ST / REVERE AV   \n",
       "2   2  2015-05-10 23:50:00    Sunday   NORTHERN    2000 Block of GOUGH ST   \n",
       "3   3  2015-05-10 23:45:00    Sunday  INGLESIDE  4700 Block of MISSION ST   \n",
       "4   4  2015-05-10 23:45:00    Sunday  INGLESIDE  4700 Block of MISSION ST   \n",
       "\n",
       "            X          Y  \n",
       "0 -122.399588  37.735051  \n",
       "1 -122.391523  37.732432  \n",
       "2 -122.426002  37.792212  \n",
       "3 -122.437394  37.721412  \n",
       "4 -122.437394  37.721412  "
      ]
     },
     "execution_count": 23,
     "metadata": {},
     "output_type": "execute_result"
    }
   ],
   "source": [
    "%matplotlib inline\n",
    "\n",
    "import pandas as pd\n",
    "import numpy as np\n",
    "import matplotlib.pyplot as plt\n",
    "import seaborn\n",
    "\n",
    "train = pd.read_csv('./train.csv')\n",
    "test = pd.read_csv('./test.csv')\n",
    "\n",
    "test.head()"
   ]
  },
  {
   "cell_type": "code",
   "execution_count": 24,
   "metadata": {
    "collapsed": false
   },
   "outputs": [],
   "source": [
    "# Data reconfiguration function\n",
    "\n",
    "def date_to_hours(date):\n",
    "    '''Turn Date column into hours and fractional minutes'''\n",
    "    hour = date[11:13]\n",
    "    minute = date[14:16]\n",
    "    frac = float(minute)/60.0\n",
    "    return int(hour) + frac\n",
    "\n",
    "def split_date(data):\n",
    "    data['Year'] = data.Dates.apply(lambda x: int(x[0:4]))\n",
    "    data['Month'] = data.Dates.apply(lambda x: int(x[5:7]))\n",
    "    data['Day'] = data.Dates.apply(lambda x: int(x[8:10]))\n",
    "    data['Time'] = data.Dates.apply(date_to_hours)\n",
    "    \n",
    "split_date(train)\n",
    "split_date(test)"
   ]
  },
  {
   "cell_type": "code",
   "execution_count": 25,
   "metadata": {
    "collapsed": false
   },
   "outputs": [],
   "source": [
    "#Onehot encode District and Day of Week\n",
    "\n",
    "def convertDow(data):\n",
    "    data = pd.concat((data, pd.get_dummies(data.DayOfWeek, prefix=\"Dow\")), axis=1)\n",
    "    return data\n",
    "\n",
    "def convertDistrict(data):\n",
    "#     districts = {'MISSION' : 0, 'CENTRAL': 1, 'TARAVAL': 2, 'INGLESIDE': 3, 'TENDERLOIN': 4, 'BAYVIEW': 5, \n",
    "#                  'SOUTHERN': 6, 'NORTHERN': 7, 'PARK': 8, 'RICHMOND': 9}\n",
    "#     return districts[x]\n",
    "    data = pd.concat((data, pd.get_dummies(data.PdDistrict, prefix=\"Dis\")), axis=1)\n",
    "    return data\n",
    "\n",
    "def convert(x):\n",
    "    crimes = {\n",
    "            'ARSON' : 0,'ASSAULT': 1,'BAD CHECKS': 2,'BRIBERY': 3,'BURGLARY': 4,'DISORDERLY CONDUCT': 5,'DRIVING UNDER THE INFLUENCE': 6,\n",
    "             'DRUG/NARCOTIC': 7,'DRUNKENNESS': 8,'EMBEZZLEMENT': 9,'EXTORTION': 10,'FAMILY OFFENSES': 11,'FORGERY/COUNTERFEITING': 12,\n",
    "             'FRAUD': 13,'GAMBLING': 14,'KIDNAPPING': 15,'LARCENY/THEFT': 16,'LIQUOR LAWS': 17,'LOITERING': 18,'MISSING PERSON': 19,'NON-CRIMINAL': 20,\n",
    "             'OTHER OFFENSES': 21,'PORNOGRAPHY/OBSCENE MAT': 22,'PROSTITUTION': 23,'RECOVERED VEHICLE': 24,'ROBBERY': 25,'RUNAWAY': 26,'SECONDARY CODES': 27,\n",
    "             'SEX OFFENSES FORCIBLE': 28,'SEX OFFENSES NON FORCIBLE': 29,'STOLEN PROPERTY': 30,'SUICIDE': 31,'SUSPICIOUS OCC': 32,'TREA': 33,'TRESPASS': 34,\n",
    "             'VANDALISM': 35,'VEHICLE THEFT': 36,'WARRANTS':37,'WEAPON LAWS': 38}\n",
    "    return crimes[x]"
   ]
  },
  {
   "cell_type": "code",
   "execution_count": 26,
   "metadata": {
    "collapsed": false
   },
   "outputs": [],
   "source": [
    "train = convertDow(train)\n",
    "train = convertDistrict(train)\n",
    "\n",
    "test = convertDow(test)\n",
    "test = convertDistrict(test)\n"
   ]
  },
  {
   "cell_type": "code",
   "execution_count": 27,
   "metadata": {
    "collapsed": false
   },
   "outputs": [],
   "source": [
    "#Test if there's a street corner\n",
    "\n",
    "def corner_test(string):\n",
    "    if '/' in string: return 1\n",
    "    else: return 0\n",
    "    \n",
    "train['Corner'] = train.Address.apply(corner_test)\n",
    "test['Corner'] = test.Address.apply(corner_test)\n",
    "\n",
    "\n",
    "# X = pd.DataFrame(train.drop('Category',1))\n",
    "# y = pd.DataFrame(train['Category'])\n",
    "\n",
    "# X = pd.DataFrame(X).applymap(convert)\n",
    "# y = pd.DataFrame(y).applymap(convert)\n",
    "\n",
    "# X_train, X_test, y_train, y_test = train_test_split(X,y, test_size = .4)"
   ]
  },
  {
   "cell_type": "code",
   "execution_count": 28,
   "metadata": {
    "collapsed": false
   },
   "outputs": [],
   "source": [
    "# predictors = ['X', 'Y']\n",
    "predictors = ['X', 'Y', 'Year', 'Month', 'Day', 'Time', 'Dow_Monday', 'Dow_Tuesday', 'Dow_Wednesday', 'Dow_Thursday', 'Dow_Friday', 'Dow_Saturday', 'Dow_Sunday', 'Dis_CENTRAL', 'Dis_INGLESIDE', 'Dis_MISSION', 'Dis_NORTHERN', 'Dis_RICHMOND', 'Dis_SOUTHERN', 'Dis_TARAVAL', 'Dis_TENDERLOIN', 'Corner']"
   ]
  },
  {
   "cell_type": "code",
   "execution_count": null,
   "metadata": {
    "collapsed": false
   },
   "outputs": [],
   "source": [
    "from sklearn.metrics import log_loss\n",
    "from sklearn.ensemble import RandomForestClassifier\n",
    "\n",
    "alg = RandomForestClassifier(n_estimators=100)\n",
    "\n",
    "rf_model = alg.fit(train[predictors], train['Category'])\n",
    "\n",
    "estimates = rf_model.predict_proba(test[predictors])\n",
    "\n",
    "df_est= pd.DataFrame(estimates)\n",
    "dfest = pd.concat([test.Id,df_est], axis=1)\n",
    "print dfest\n",
    "\n",
    "dfest.columns = ['Id','ARSON','ASSAULT','BAD CHECKS','BRIBERY','BURGLARY','DISORDERLY CONDUCT','DRIVING UNDER THE INFLUENCE',\n",
    "             'DRUG/NARCOTIC','DRUNKENNESS','EMBEZZLEMENT','EXTORTION','FAMILY OFFENSES','FORGERY/COUNTERFEITING',\n",
    "             'FRAUD','GAMBLING','KIDNAPPING','LARCENY/THEFT','LIQUOR LAWS','LOITERING','MISSING PERSON','NON-CRIMINAL',\n",
    "             'OTHER OFFENSES','PORNOGRAPHY/OBSCENE MAT','PROSTITUTION','RECOVERED VEHICLE','ROBBERY','RUNAWAY','SECONDARY CODES',\n",
    "             'SEX OFFENSES FORCIBLE','SEX OFFENSES NON FORCIBLE','STOLEN PROPERTY','SUICIDE','SUSPICIOUS OCC','TREA','TRESPASS',\n",
    "             'VANDALISM','VEHICLE THEFT','WARRANTS','WEAPON LAWS']\n",
    "\n",
    "dfest.to_csv('resultsRF.csv', index = False, columns=['Id','ARSON','ASSAULT','BAD CHECKS','BRIBERY','BURGLARY','DISORDERLY CONDUCT','DRIVING UNDER THE INFLUENCE',\n",
    "             'DRUG/NARCOTIC','DRUNKENNESS','EMBEZZLEMENT','EXTORTION','FAMILY OFFENSES','FORGERY/COUNTERFEITING',\n",
    "             'FRAUD','GAMBLING','KIDNAPPING','LARCENY/THEFT','LIQUOR LAWS','LOITERING','MISSING PERSON','NON-CRIMINAL',\n",
    "             'OTHER OFFENSES','PORNOGRAPHY/OBSCENE MAT','PROSTITUTION','RECOVERED VEHICLE','ROBBERY','RUNAWAY','SECONDARY CODES',\n",
    "             'SEX OFFENSES FORCIBLE','SEX OFFENSES NON FORCIBLE','STOLEN PROPERTY','SUICIDE','SUSPICIOUS OCC','TREA','TRESPASS',\n",
    "             'VANDALISM','VEHICLE THEFT','WARRANTS','WEAPON LAWS'])"
   ]
  }
 ],
 "metadata": {
  "kernelspec": {
   "display_name": "Python 2",
   "language": "python",
   "name": "python2"
  },
  "language_info": {
   "codemirror_mode": {
    "name": "ipython",
    "version": 2
   },
   "file_extension": ".py",
   "mimetype": "text/x-python",
   "name": "python",
   "nbconvert_exporter": "python",
   "pygments_lexer": "ipython2",
   "version": "2.7.11"
  }
 },
 "nbformat": 4,
 "nbformat_minor": 0
}
